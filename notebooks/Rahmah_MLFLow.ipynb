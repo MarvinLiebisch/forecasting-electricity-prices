{
 "cells": [
  {
   "cell_type": "code",
   "execution_count": null,
   "metadata": {},
   "outputs": [],
   "source": []
  }
 ],
 "metadata": {
  "kernelspec": {
   "display_name": "forecasting-electricity-prices",
   "language": "python",
   "name": "python3"
  },
  "language_info": {
   "name": "python",
   "version": "3.10.6 (main, Jan 26 2023, 18:45:06) [GCC 11.3.0]"
  },
  "orig_nbformat": 4,
  "vscode": {
   "interpreter": {
    "hash": "2d0d6ee2a68470b4ccfbd29f5b5a235c93bbe665caa4d62a16438ad06c8235c0"
   }
  }
 },
 "nbformat": 4,
 "nbformat_minor": 2
}
