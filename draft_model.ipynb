{
 "cells": [
  {
   "cell_type": "code",
   "execution_count": 19,
   "id": "29cdd390",
   "metadata": {},
   "outputs": [],
   "source": [
    "import sys\n",
    "sys.path.insert(0,'/home/alan/code/MarvinLiebisch/forecasting-electricity-prices')"
   ]
  },
  {
   "cell_type": "markdown",
   "id": "488e1f42",
   "metadata": {},
   "source": []
  },
  {
   "cell_type": "code",
   "execution_count": 20,
   "id": "1ebc3110",
   "metadata": {},
   "outputs": [
    {
     "data": {
      "text/plain": [
       "['/home/alan/code/MarvinLiebisch/forecasting-electricity-prices',\n",
       " '/home/alan/code/MarvinLiebisch/forecasting-electricity-prices',\n",
       " '/home/alan/code/MarvinLiebisch/forecasting-electricity-prices/notebook',\n",
       " '/home/alan/code/AlanLHO/data-context-and-setup',\n",
       " '/home/alan/code/MarvinLiebisch/forecasting-electricity-prices/notebook',\n",
       " '/home/alan/.pyenv/versions/3.10.6/lib/python310.zip',\n",
       " '/home/alan/.pyenv/versions/3.10.6/lib/python3.10',\n",
       " '/home/alan/.pyenv/versions/3.10.6/lib/python3.10/lib-dynload',\n",
       " '',\n",
       " '/home/alan/.pyenv/versions/3.10.6/envs/forecasting-electricity-prices/lib/python3.10/site-packages']"
      ]
     },
     "execution_count": 20,
     "metadata": {},
     "output_type": "execute_result"
    }
   ],
   "source": [
    "sys.path"
   ]
  },
  {
   "cell_type": "code",
   "execution_count": 21,
   "id": "4301922d",
   "metadata": {},
   "outputs": [],
   "source": [
    "from tensorflow.keras.models import Sequential\n",
    "from tensorflow.keras import layers\n",
    "from tensorflow.keras.layers import SimpleRNN, LSTM, GRU,Dense\n",
    "from tensorflow.keras import callbacks\n",
    "from tensorflow.keras.optimizers import RMSprop\n",
    "from sklearn.model_selection import train_test_split\n",
    "from data_import import import_merged_data\n",
    "from preprocessing_basic import run_pipeline\n",
    "import numpy as np\n",
    "import pandas as pd\n",
    "import math\n",
    "import matplotlib.pyplot as plt\n",
    "from sklearn.metrics import mean_absolute_error\n",
    "import random\n",
    "from tensorflow.keras.optimizers import Nadam"
   ]
  },
  {
   "cell_type": "markdown",
   "id": "27d4206c",
   "metadata": {},
   "source": [
    "To use the RNN model,we need a lot of sequence. To do so, because we have only one serie to predict, We have to cut our input in multiple sequence. We can choose sequence of one month. \n",
    "Indeed, the input of RNN have this dimension : (n_squence, n_observation, n_feature)\n",
    "The length of the sequence will have an impact on the seasonality capturing. \n",
    "\n",
    "The units in RNN add feature which store the context from previous input\n",
    "\n",
    "We have to tried RNN,LSTM, GRU and maybe take a look at the bidirectional RNN"
   ]
  },
  {
   "cell_type": "code",
   "execution_count": 22,
   "id": "09c6f528",
   "metadata": {},
   "outputs": [
    {
     "name": "stdout",
     "output_type": "stream",
     "text": [
      "Importing energy_dataset data from /home/alan/code/MarvinLiebisch/forecasting-electricity-prices/raw_data/energy_dataset.csv...\n",
      "Importing weather_features data from /home/alan/code/MarvinLiebisch/forecasting-electricity-prices/raw_data/weather_features.csv...\n"
     ]
    }
   ],
   "source": [
    "X=import_merged_data().drop(columns=['price_actual'])\n",
    "y=X[['price_day_ahead']]\n",
    "X=pd.DataFrame(run_pipeline(X, max_categories = 10, treat_remainder = 'drop'))"
   ]
  },
  {
   "cell_type": "code",
   "execution_count": 23,
   "id": "303ded27",
   "metadata": {},
   "outputs": [
    {
     "data": {
      "text/plain": [
       "((38522, 1), (38522, 119))"
      ]
     },
     "execution_count": 23,
     "metadata": {},
     "output_type": "execute_result"
    }
   ],
   "source": [
    "y.shape,X.shape"
   ]
  },
  {
   "cell_type": "code",
   "execution_count": 24,
   "id": "e29775c1",
   "metadata": {},
   "outputs": [],
   "source": [
    "def sequence_data(X, y, \n",
    "                  n_observation_X, n_observation_y,\n",
    "                  n_sequence_train,n_sequence_val,n_sequence_test,\n",
    "                  val_cutoff,test_cutoff):\n",
    "    \n",
    "    \n",
    "    sample_list_train = list(range(0, int(len(X)-n_observation_y-n_observation_X)))\n",
    "    sample_list_val = list(range(int(len(X)*val_cutoff),int(len(X)*test_cutoff)))\n",
    "    sample_list_test= list(range(int(len(X)*test_cutoff),int(len(X)-n_observation_y-n_observation_X)))\n",
    "    \n",
    "    random.shuffle(sample_list_train)\n",
    "    random.shuffle(sample_list_val)\n",
    "    random.shuffle(sample_list_test)\n",
    "    \n",
    "    X_train=np.zeros((n_sequence_train, n_observation_X, X.shape[1]))\n",
    "    X_val=np.zeros((n_sequence_val, n_observation_X, X.shape[1]))\n",
    "    X_test=np.zeros((n_sequence_test, n_observation_X, X.shape[1]))\n",
    "    \n",
    "    y_train=np.zeros((n_sequence_train, n_observation_y, 1))\n",
    "    y_val=np.zeros((n_sequence_val, n_observation_y, 1))\n",
    "    y_test=np.zeros((n_sequence_test, n_observation_y, 1))\n",
    "    \n",
    "    \n",
    "    def create_sequence(X_,y_,sample_list):\n",
    "        index=0\n",
    "        for i in sample_list:\n",
    "            X_[index] = X.iloc[i:i + n_observation_X].values\n",
    "            y_[index]= y.iloc[i + n_observation_X:i + n_observation_X + n_observation_y].values\n",
    "        return X_, y_\n",
    "    \n",
    "    X_train, y_train = create_sequence(X_train,y_train,sample_list_train)\n",
    "    X_val, y_val = create_sequence(X_val,y_val,sample_list_val)\n",
    "    X_test, y_test = create_sequence(X_test,y_test,sample_list_test)\n",
    "    \n",
    "    return X_train, X_val, X_test, y_train, y_val,y_test\n",
    "\n",
    "\n",
    "n_observation_X=24 * 7  # For example, a week of data for the sequence\n",
    "n_observation_y=24 # We would like to forecast the 24 prices of the next day during the auction of today\n",
    "n_sequence_train=1000\n",
    "n_sequence_val=50\n",
    "n_sequence_test=20\n",
    "val_cutoff=0.8\n",
    "test_cutoff=0.9\n"
   ]
  },
  {
   "cell_type": "code",
   "execution_count": 25,
   "id": "02836d42",
   "metadata": {},
   "outputs": [
    {
     "data": {
      "text/plain": [
       "168"
      ]
     },
     "execution_count": 25,
     "metadata": {},
     "output_type": "execute_result"
    }
   ],
   "source": [
    "24 * 7  "
   ]
  },
  {
   "cell_type": "code",
   "execution_count": 26,
   "id": "9d02b248",
   "metadata": {},
   "outputs": [],
   "source": [
    "X_train, X_val, X_test, y_train, y_val,y_test = sequence_data(X, y, \n",
    "                  n_observation_X, n_observation_y,\n",
    "                  n_sequence_train,n_sequence_val,n_sequence_test,\n",
    "                  val_cutoff,test_cutoff)"
   ]
  },
  {
   "cell_type": "code",
   "execution_count": 27,
   "id": "e879c938",
   "metadata": {},
   "outputs": [
    {
     "data": {
      "text/plain": [
       "'def create_sequences(X, y, observation_length,step):\\n    n_SEQUENCES=len(range(0,len(X) - observation_length - 24,step))\\n    X_sequenced = np.zeros((n_SEQUENCES, observation_length, X.shape[1])) # initialize the dataframe with the new sequences\\n    y_sequenced= np.zeros((n_SEQUENCES, step,1))\\n    index=0\\n    for i in range(len(X) - observation_length - 24,0,-step):\\n        X_sequenced[index] = X.iloc[i:i + observation_length].values\\n        y_sequenced[index]= y.iloc[i + observation_length:i + observation_length + 24].values\\n        index=index+1\\n    return X_sequenced, y_sequenced\\nstep=24\\nobservation_length = 24 * 7  # For example, a week of data for the sequence\\nX_sequenced, y_sequenced = create_sequences(X, y, observation_length,step)'"
      ]
     },
     "execution_count": 27,
     "metadata": {},
     "output_type": "execute_result"
    }
   ],
   "source": [
    "'''def create_sequences(X, y, observation_length,step):\n",
    "    n_SEQUENCES=len(range(0,len(X) - observation_length - 24,step))\n",
    "    X_sequenced = np.zeros((n_SEQUENCES, observation_length, X.shape[1])) # initialize the dataframe with the new sequences\n",
    "    y_sequenced= np.zeros((n_SEQUENCES, step,1))\n",
    "    index=0\n",
    "    for i in range(len(X) - observation_length - 24,0,-step):\n",
    "        X_sequenced[index] = X.iloc[i:i + observation_length].values\n",
    "        y_sequenced[index]= y.iloc[i + observation_length:i + observation_length + 24].values\n",
    "        index=index+1\n",
    "    return X_sequenced, y_sequenced\n",
    "step=24\n",
    "observation_length = 24 * 7  # For example, a week of data for the sequence\n",
    "X_sequenced, y_sequenced = create_sequences(X, y, observation_length,step)'''"
   ]
  },
  {
   "cell_type": "code",
   "execution_count": 28,
   "id": "fd42c5e2",
   "metadata": {},
   "outputs": [
    {
     "data": {
      "text/plain": [
       "'X_train, X_test, y_train, y_test = train_test_split(X_sequenced, y_sequenced, test_size=0.2, random_state=42, shuffle=True)'"
      ]
     },
     "execution_count": 28,
     "metadata": {},
     "output_type": "execute_result"
    }
   ],
   "source": [
    "'''X_train, X_test, y_train, y_test = train_test_split(X_sequenced, y_sequenced, test_size=0.2, random_state=42, shuffle=True)'''"
   ]
  },
  {
   "cell_type": "code",
   "execution_count": 29,
   "id": "56b26497",
   "metadata": {},
   "outputs": [
    {
     "name": "stdout",
     "output_type": "stream",
     "text": [
      "MAE: 0.06 and the mean of day ahead price is : 0.0\n"
     ]
    }
   ],
   "source": [
    "# Baseline model\n",
    "\n",
    "y_train_flaten=np.reshape(y_train,(-1, 1))\n",
    "y_true_baseline= pd.DataFrame(y_train_flaten, columns=['y_train'])[24:]\n",
    "y_pred_baseline= pd.DataFrame(y_train_flaten, columns=['y_train']).shift(24).dropna()\n",
    "\n",
    "print(f\"MAE: {round(mean_absolute_error(y_true_baseline, y_pred_baseline),2)} and the mean of day ahead price is : {round(y_true_baseline.mean()[0],2)}\")"
   ]
  },
  {
   "cell_type": "code",
   "execution_count": 30,
   "id": "65b210ff",
   "metadata": {},
   "outputs": [
    {
     "name": "stderr",
     "output_type": "stream",
     "text": [
      "2023-03-23 14:26:23.851196: W tensorflow/stream_executor/platform/default/dso_loader.cc:64] Could not load dynamic library 'libcuda.so.1'; dlerror: libcuda.so.1: cannot open shared object file: No such file or directory\n",
      "2023-03-23 14:26:23.919926: W tensorflow/stream_executor/cuda/cuda_driver.cc:263] failed call to cuInit: UNKNOWN ERROR (303)\n",
      "2023-03-23 14:26:23.936789: I tensorflow/stream_executor/cuda/cuda_diagnostics.cc:156] kernel driver does not appear to be running on this host (DESKTOP-JV7MDF9): /proc/driver/nvidia/version does not exist\n",
      "2023-03-23 14:26:24.229219: I tensorflow/core/platform/cpu_feature_guard.cc:193] This TensorFlow binary is optimized with oneAPI Deep Neural Network Library (oneDNN) to use the following CPU instructions in performance-critical operations:  AVX2 FMA\n",
      "To enable them in other operations, rebuild TensorFlow with the appropriate compiler flags.\n",
      "/home/alan/.pyenv/versions/3.10.6/envs/forecasting-electricity-prices/lib/python3.10/site-packages/keras/optimizers/optimizer_v2/nadam.py:86: UserWarning: The `lr` argument is deprecated, use `learning_rate` instead.\n",
      "  super().__init__(name, **kwargs)\n",
      "2023-03-23 14:27:10.340336: W tensorflow/core/framework/cpu_allocator_impl.cc:82] Allocation of 79968000 exceeds 10% of free system memory.\n"
     ]
    },
    {
     "name": "stdout",
     "output_type": "stream",
     "text": [
      "Epoch 1/1000\n",
      "63/63 [==============================] - 219s 2s/step - loss: 3.8631 - mae: 0.0726 - val_loss: 71.9440 - val_mae: 1.1993\n",
      "Epoch 2/1000\n",
      "63/63 [==============================] - 97s 2s/step - loss: 4.4424 - mae: 0.3229 - val_loss: 72.8316 - val_mae: 1.2066\n",
      "Epoch 3/1000\n",
      "63/63 [==============================] - 101s 2s/step - loss: 3.5411 - mae: 0.0599 - val_loss: 69.0729 - val_mae: 1.1751\n",
      "Epoch 4/1000\n",
      "63/63 [==============================] - 109s 2s/step - loss: 3.3578 - mae: 0.0723 - val_loss: 65.4978 - val_mae: 1.1442\n",
      "Epoch 5/1000\n",
      "63/63 [==============================] - 178s 3s/step - loss: 3.1834 - mae: 0.0797 - val_loss: 61.5568 - val_mae: 1.1092\n",
      "Epoch 6/1000\n",
      "35/63 [===============>..............] - ETA: 55s - loss: 5.3403 - mae: 0.1448"
     ]
    }
   ],
   "source": [
    "model = Sequential()\n",
    "model.add(LSTM(units=64, input_shape=X_train.shape[1:], return_sequences=True))\n",
    "model.add(LSTM(units=64, return_sequences=True))\n",
    "model.add(LSTM(units=64, return_sequences=False))\n",
    "model.add(Dense(y.shape[1], activation='linear'))  # Output layer with 24 neurons (one for each hour)\n",
    "\n",
    "# Compile and train the model\n",
    "initial_learning=0.01 # Default value is 0.001\n",
    "optimizer = Nadam(lr=initial_learning) #change the optimizer and right all the default value\n",
    "model.compile(optimizer=optimizer, loss='mse',metrics=['mae'])\n",
    "es = callbacks.EarlyStopping(patience=15, restore_best_weights=True)\n",
    "history =model.fit(X_train, y_train, epochs=1000, batch_size=16, callbacks=[es], validation_data=(X_val,y_val),verbose=1,shuffle=False)"
   ]
  },
  {
   "cell_type": "code",
   "execution_count": null,
   "id": "3394dc9c",
   "metadata": {},
   "outputs": [],
   "source": [
    "def plt_history(history):\n",
    "    plt.plot(history.history['loss'])\n",
    "    plt.plot(history.history['val_loss'])\n",
    "    plt.title('Model loss')\n",
    "    plt.ylabel('Loss')\n",
    "    plt.xlabel('Epoch')\n",
    "    plt.legend(['Train', 'Validation'], loc='upper right')\n",
    "    plt.show()"
   ]
  },
  {
   "cell_type": "code",
   "execution_count": null,
   "id": "4c5135c6",
   "metadata": {},
   "outputs": [
    {
     "data": {
      "image/png": "[encoded data removed]",
      "text/plain": [
       "<Figure size 640x480 with 1 Axes>"
      ]
     },
     "metadata": {},
     "output_type": "display_data"
    }
   ],
   "source": [
    "plt_history(history)"
   ]
  },
  {
   "cell_type": "code",
   "execution_count": null,
   "id": "27547c53",
   "metadata": {},
   "outputs": [],
   "source": [
    "model.save('mon_modele_1.h5')"
   ]
  }
 ],
 "metadata": {
  "kernelspec": {
   "display_name": "Python 3 (ipykernel)",
   "language": "python",
   "name": "python3"
  },
  "language_info": {
   "codemirror_mode": {
    "name": "ipython",
    "version": 3
   },
   "file_extension": ".py",
   "mimetype": "text/x-python",
   "name": "python",
   "nbconvert_exporter": "python",
   "pygments_lexer": "ipython3",
   "version": "3.10.6"
  },
  "toc": {
   "base_numbering": 1,
   "nav_menu": {},
   "number_sections": true,
   "sideBar": true,
   "skip_h1_title": false,
   "title_cell": "Table of Contents",
   "title_sidebar": "Contents",
   "toc_cell": false,
   "toc_position": {},
   "toc_section_display": true,
   "toc_window_display": false
  }
 },
 "nbformat": 4,
 "nbformat_minor": 5
}
